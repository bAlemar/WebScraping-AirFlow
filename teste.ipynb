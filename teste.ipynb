{
 "cells": [
  {
   "cell_type": "code",
   "execution_count": 12,
   "metadata": {},
   "outputs": [],
   "source": [
    "import requests\n",
    "from bs4 import BeautifulSoup\n",
    "url = 'https://www.buscape.com.br/search?q=placa%20de%20video%20rtx%203060&hitsPerPage=24&prx=true&page=1&sortBy=price_asc&isDealsPage=false&enableRefinementsSuggestions=true'\n",
    "\n",
    "response = requests.get(url)\n",
    "soup = BeautifulSoup(response.text,'html.parser')\n",
    "Top_5_menor_Preco = soup.find_all('p',{'data-testid': 'product-card::price'})[:5]"
   ]
  },
  {
   "cell_type": "code",
   "execution_count": 13,
   "metadata": {},
   "outputs": [
    {
     "data": {
      "text/plain": [
       "[<p class=\"Text_Text__ARJdp Text_MobileHeadingS__HEz7L\" data-testid=\"product-card::price\">R$ 1.729,99</p>,\n",
       " <p class=\"Text_Text__ARJdp Text_MobileHeadingS__HEz7L\" data-testid=\"product-card::price\">R$ 1.957,00</p>,\n",
       " <p class=\"Text_Text__ARJdp Text_MobileHeadingS__HEz7L\" data-testid=\"product-card::price\">R$ 1.999,00</p>,\n",
       " <p class=\"Text_Text__ARJdp Text_MobileHeadingS__HEz7L\" data-testid=\"product-card::price\">R$ 1.999,00</p>,\n",
       " <p class=\"Text_Text__ARJdp Text_MobileHeadingS__HEz7L\" data-testid=\"product-card::price\">R$ 1.999,00</p>]"
      ]
     },
     "execution_count": 13,
     "metadata": {},
     "output_type": "execute_result"
    }
   ],
   "source": [
    "Top_5_menor_Preco"
   ]
  }
 ],
 "metadata": {
  "kernelspec": {
   "display_name": "Python 3",
   "language": "python",
   "name": "python3"
  },
  "language_info": {
   "codemirror_mode": {
    "name": "ipython",
    "version": 3
   },
   "file_extension": ".py",
   "mimetype": "text/x-python",
   "name": "python",
   "nbconvert_exporter": "python",
   "pygments_lexer": "ipython3",
   "version": "3.10.12"
  }
 },
 "nbformat": 4,
 "nbformat_minor": 2
}
