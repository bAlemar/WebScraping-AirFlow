{
 "cells": [
  {
   "cell_type": "code",
   "execution_count": 1,
   "metadata": {},
   "outputs": [],
   "source": [
    "import requests\n",
    "from bs4 import BeautifulSoup"
   ]
  },
  {
   "cell_type": "code",
   "execution_count": null,
   "metadata": {},
   "outputs": [],
   "source": [
    "#Extração\n",
    "url = 'https://www.buscape.com.br/search?q=placa%20de%20video%20rtx%203060&hitsPerPage=24&prx=true&page=1&sortBy=price_asc&isDealsPage=false&enableRefinementsSuggestions=true'"
   ]
  },
  {
   "cell_type": "code",
   "execution_count": null,
   "metadata": {},
   "outputs": [],
   "source": [
    "response = requests.get(url)\n",
    "soup = BeautifulSoup(response.text,'html.parser')"
   ]
  },
  {
   "cell_type": "code",
   "execution_count": null,
   "metadata": {},
   "outputs": [],
   "source": [
    "# Tratativa\n",
    "# Da para passar pro SQL\n",
    "def tratativa(x):\n",
    "    x = x.replace('R$','').replace('.','').replace(',','.')\n",
    "    x = x.strip()\n",
    "    x = float(x)\n",
    "    return x\n",
    "\n",
    "Top_5_menor_Preco = soup.find_all(class_='Text_Text_ARJdp Text_MobileHeadingS_HEz7L')[:5]\n",
    "menores_Precos = [tratativa(x.text) for x in Top_5_menor_Preco]"
   ]
  }
 ],
 "metadata": {
  "kernelspec": {
   "display_name": "Python 3",
   "language": "python",
   "name": "python3"
  },
  "language_info": {
   "codemirror_mode": {
    "name": "ipython",
    "version": 3
   },
   "file_extension": ".py",
   "mimetype": "text/x-python",
   "name": "python",
   "nbconvert_exporter": "python",
   "pygments_lexer": "ipython3",
   "version": "3.undefined.undefined"
  }
 },
 "nbformat": 4,
 "nbformat_minor": 2
}
