{
 "cells": [
  {
   "cell_type": "code",
   "execution_count": 29,
   "metadata": {},
   "outputs": [],
   "source": [
    "import pyarrow.csv as pv\n",
    "import pyarrow.parquet as pq\n",
    "import os\n",
    "import pandas as pd"
   ]
  },
  {
   "cell_type": "code",
   "execution_count": 8,
   "metadata": {},
   "outputs": [],
   "source": [
    "# Lista de Arquivos CSV\n",
    "\n",
    "arquivos_csv = []\n",
    "pasta_csv = \"archive\"\n",
    "for arquivo in os.listdir(pasta_csv):\n",
    "    if arquivo.endswith(\".csv\"):\n",
    "        arquivos_csv.append(arquivo)"
   ]
  },
  {
   "cell_type": "code",
   "execution_count": 18,
   "metadata": {},
   "outputs": [],
   "source": [
    "# Convertendo os arquivos csv para Parquet\n",
    "for arquivo in arquivos_csv:\n",
    "    #Carregando tabela csv \n",
    "    table = pv.read_csv(f\"{pasta_csv}/{arquivo}\")\n",
    "    #Transformando para Parquet\n",
    "    pasta_parquet = \"DataSet\"\n",
    "    arquivo =  f\"{pasta_parquet}/{arquivo.replace('csv','parquet')}\"\n",
    "    pq.write_table(table,arquivo)"
   ]
  },
  {
   "cell_type": "code",
   "execution_count": 32,
   "metadata": {},
   "outputs": [],
   "source": [
    "dict_resultado = {\n",
    "    'nome arquivo': [],\n",
    "    'CSV':[],\n",
    "    'Parquet':[]\n",
    "}\n",
    "\n",
    "for csv in os.listdir(\"archive\"):\n",
    "    # Pegando tamanho Dados CSV\n",
    "    tamanho_arquivo_csv = int(os.path.getsize(f'archive/{csv}')/(1024 ** 2))\n",
    "    \n",
    "    # Pegando tamanho Dados Parquet\n",
    "    parquet = csv.replace('csv','parquet')\n",
    "    tamanho_arquivo_parquet = int(os.path.getsize(f'DataSet/{parquet}')/(1024 ** 2))\n",
    "    \n",
    "    # Nome arquivo:\n",
    "    nome_arquivo = csv.replace('.csv','')\n",
    "    # Abastecendo base de dados\n",
    "    dict_resultado['nome arquivo'].append(nome_arquivo)\n",
    "    dict_resultado['Parquet'].append(tamanho_arquivo_parquet)\n",
    "    dict_resultado['CSV'].append(tamanho_arquivo_csv)"
   ]
  },
  {
   "cell_type": "code",
   "execution_count": 35,
   "metadata": {},
   "outputs": [
    {
     "data": {
      "text/html": [
       "<div>\n",
       "<style scoped>\n",
       "    .dataframe tbody tr th:only-of-type {\n",
       "        vertical-align: middle;\n",
       "    }\n",
       "\n",
       "    .dataframe tbody tr th {\n",
       "        vertical-align: top;\n",
       "    }\n",
       "\n",
       "    .dataframe thead th {\n",
       "        text-align: right;\n",
       "    }\n",
       "</style>\n",
       "<table border=\"1\" class=\"dataframe\">\n",
       "  <thead>\n",
       "    <tr style=\"text-align: right;\">\n",
       "      <th></th>\n",
       "      <th>nome arquivo</th>\n",
       "      <th>CSV</th>\n",
       "      <th>Parquet</th>\n",
       "    </tr>\n",
       "  </thead>\n",
       "  <tbody>\n",
       "    <tr>\n",
       "      <th>0</th>\n",
       "      <td>2019-Dec</td>\n",
       "      <td>396</td>\n",
       "      <td>82</td>\n",
       "    </tr>\n",
       "    <tr>\n",
       "      <th>1</th>\n",
       "      <td>2019-Nov</td>\n",
       "      <td>520</td>\n",
       "      <td>103</td>\n",
       "    </tr>\n",
       "    <tr>\n",
       "      <th>2</th>\n",
       "      <td>2019-Oct</td>\n",
       "      <td>460</td>\n",
       "      <td>92</td>\n",
       "    </tr>\n",
       "    <tr>\n",
       "      <th>3</th>\n",
       "      <td>2020-Feb</td>\n",
       "      <td>466</td>\n",
       "      <td>95</td>\n",
       "    </tr>\n",
       "    <tr>\n",
       "      <th>4</th>\n",
       "      <td>2020-Jan</td>\n",
       "      <td>478</td>\n",
       "      <td>98</td>\n",
       "    </tr>\n",
       "  </tbody>\n",
       "</table>\n",
       "</div>"
      ],
      "text/plain": [
       "  nome arquivo  CSV  Parquet\n",
       "0     2019-Dec  396       82\n",
       "1     2019-Nov  520      103\n",
       "2     2019-Oct  460       92\n",
       "3     2020-Feb  466       95\n",
       "4     2020-Jan  478       98"
      ]
     },
     "execution_count": 35,
     "metadata": {},
     "output_type": "execute_result"
    }
   ],
   "source": [
    "df = pd.DataFrame(dict_resultado)\n",
    "df"
   ]
  }
 ],
 "metadata": {
  "kernelspec": {
   "display_name": "Python 3",
   "language": "python",
   "name": "python3"
  },
  "language_info": {
   "codemirror_mode": {
    "name": "ipython",
    "version": 3
   },
   "file_extension": ".py",
   "mimetype": "text/x-python",
   "name": "python",
   "nbconvert_exporter": "python",
   "pygments_lexer": "ipython3",
   "version": "3.12.0"
  }
 },
 "nbformat": 4,
 "nbformat_minor": 2
}
